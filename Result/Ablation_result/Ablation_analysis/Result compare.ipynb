{
 "cells": [
  {
   "cell_type": "markdown",
   "metadata": {},
   "source": [
    "# Analysis of ablation method"
   ]
  },
  {
   "cell_type": "code",
   "execution_count": 10,
   "metadata": {},
   "outputs": [
    {
     "name": "stdout",
     "output_type": "stream",
     "text": [
      "saved as emotion_predictions_all\n"
     ]
    }
   ],
   "source": [
    "import pandas as pd\n",
    "\n",
    "df1 = pd.read_csv('./Result/Ablation_result/1k_generation_both.csv')\n",
    "df2 = pd.read_csv('./Result/Ablation_result/1k_generation_pic.csv')\n",
    "df3 = pd.read_csv('./Result/Ablation_result/1k_generation_text.csv')\n",
    "\n",
    "last_column_df2 = df2.iloc[:, -1]\n",
    "last_column_df3 = df3.iloc[:, -1]\n",
    "\n",
    "df2['last_column_pic'] = last_column_df2\n",
    "df3['last_column_text'] = last_column_df3\n",
    "\n",
    "df_merged = df1.merge(df2[['painting', 'last_column_pic']], on='painting', how='left')\n",
    "df_merged = df_merged.merge(df3[['painting', 'last_column_text']], on='painting', how='left')\n",
    "\n",
    "\n",
    "df_merged.to_csv('./Result/Ablation_result/Ablation_analysis/emotion_predictions_all.csv', index=False)\n",
    "print(\"saved as emotion_predictions_all\")\n"
   ]
  },
  {
   "cell_type": "code",
   "execution_count": 14,
   "metadata": {},
   "outputs": [
    {
     "name": "stdout",
     "output_type": "stream",
     "text": [
      "How many artworks have repetition > 7: 29\n"
     ]
    }
   ],
   "source": [
    "file_path = './Result/Ablation_result/Ablation_analysis/emotion_predictions_all.csv'\n",
    "df = pd.read_csv(file_path)\n",
    "\n",
    "filtered_df = df[df['repetition'] > 7]\n",
    "print(f\"How many artworks have repetition > 7: {len(filtered_df)}\")"
   ]
  },
  {
   "cell_type": "markdown",
   "metadata": {},
   "source": [
    "### By which items does the model classify same by all 3 means"
   ]
  },
  {
   "cell_type": "code",
   "execution_count": 16,
   "metadata": {},
   "outputs": [
    {
     "name": "stdout",
     "output_type": "stream",
     "text": [
      "135\n",
      "Saved in: ./Result/Ablation_result/Ablation_analysis/all_same.csv\n"
     ]
    }
   ],
   "source": [
    "file_path = './Result/Ablation_result/Ablation_analysis/emotion_predictions_all.csv'\n",
    "df = pd.read_csv(file_path)\n",
    "\n",
    "last_three_columns = df.iloc[:, -3:]\n",
    "\n",
    "all_equal = last_three_columns.apply(lambda x: len(set(x)) == 1, axis=1)\n",
    "\n",
    "all_same_rows = df[all_equal]\n",
    "print(len(all_same_rows))\n",
    "\n",
    "output_path = './Result/Ablation_result/Ablation_analysis/all_same.csv'\n",
    "all_same_rows.to_csv(output_path, index=False)\n",
    "\n",
    "print(f'Saved in: {output_path}')\n"
   ]
  },
  {
   "cell_type": "markdown",
   "metadata": {},
   "source": [
    "### By which items does the model classify all different by all 3 means"
   ]
  },
  {
   "cell_type": "code",
   "execution_count": 19,
   "metadata": {},
   "outputs": [
    {
     "name": "stdout",
     "output_type": "stream",
     "text": [
      "182\n",
      "Saved in: ./Result/Ablation_result/Ablation_analysis/all_different.csv\n"
     ]
    }
   ],
   "source": [
    "file_path = './Result/Ablation_result/Ablation_analysis/emotion_predictions_all.csv'\n",
    "df = pd.read_csv(file_path)\n",
    "\n",
    "last_three_columns = df.iloc[:, -3:]\n",
    "\n",
    "all_different = last_three_columns.apply(lambda x: len(set(x)) == 3, axis=1)\n",
    "\n",
    "all_different_rows = df[all_different]\n",
    "print(len(all_different_rows))\n",
    "\n",
    "output_path = './Result/Ablation_result/Ablation_analysis/all_different.csv'\n",
    "all_different_rows.to_csv(output_path, index=False)\n",
    "\n",
    "print(f'Saved in: {output_path}')"
   ]
  },
  {
   "cell_type": "markdown",
   "metadata": {},
   "source": [
    "### What's the gold labels for these artworks that are classified all different"
   ]
  },
  {
   "cell_type": "code",
   "execution_count": 20,
   "metadata": {},
   "outputs": [
    {
     "name": "stdout",
     "output_type": "stream",
     "text": [
      "Saved in: ./Result/Ablation_result/Ablation_analysis/different_orinial_emotion_distribution.csv\n"
     ]
    }
   ],
   "source": [
    "all_different_path = './Result/Ablation_result/Ablation_analysis/all_different.csv'\n",
    "all_different_df = pd.read_csv(all_different_path)\n",
    "\n",
    "painting_names = all_different_df['painting'].tolist()\n",
    "\n",
    "data_with_links_path = './Dataset/data_with_links_without_somethingelse.csv'\n",
    "data_with_links_df = pd.read_csv(data_with_links_path)\n",
    "\n",
    "results_list = []\n",
    "\n",
    "for painting in painting_names:\n",
    "    matching_rows = data_with_links_df[data_with_links_df['painting'] == painting]\n",
    "    if not matching_rows.empty:\n",
    "        for index, row in matching_rows.iterrows():\n",
    "            results_list.append({\n",
    "                'painting': painting,\n",
    "                'emotion': row['emotion'],\n",
    "                'repetition': row['repetition']\n",
    "            })\n",
    "\n",
    "results_df = pd.DataFrame(results_list)\n",
    "\n",
    "output_path = './Result/Ablation_result/Ablation_analysis/different_orinial_emotion_distribution.csv'\n",
    "results_df.to_csv(output_path, index=False)\n",
    "\n",
    "print(f'Saved in: {output_path}')\n"
   ]
  },
  {
   "cell_type": "markdown",
   "metadata": {},
   "source": [
    "### What's the gold labels for these artworks that are classified all same"
   ]
  },
  {
   "cell_type": "code",
   "execution_count": 21,
   "metadata": {},
   "outputs": [
    {
     "name": "stdout",
     "output_type": "stream",
     "text": [
      "Saved in: ./Result/Ablation_result/Ablation_analysis/same_orinial_emotion_distribution.csv\n"
     ]
    }
   ],
   "source": [
    "all_different_path = './Result/Ablation_result/Ablation_analysis/all_same.csv'\n",
    "all_different_df = pd.read_csv(all_different_path)\n",
    "\n",
    "painting_names = all_different_df['painting'].tolist()\n",
    "\n",
    "data_with_links_path = './Dataset/data_with_links_without_somethingelse.csv'\n",
    "data_with_links_df = pd.read_csv(data_with_links_path)\n",
    "\n",
    "results_list = []\n",
    "\n",
    "for painting in painting_names:\n",
    "    matching_rows = data_with_links_df[data_with_links_df['painting'] == painting]\n",
    "    if not matching_rows.empty:\n",
    "        for index, row in matching_rows.iterrows():\n",
    "            results_list.append({\n",
    "                'painting': painting,\n",
    "                'emotion': row['emotion'],\n",
    "                'repetition': row['repetition']\n",
    "            })\n",
    "\n",
    "results_df = pd.DataFrame(results_list)\n",
    "\n",
    "output_path = './Result/Ablation_result/Ablation_analysis/same_orinial_emotion_distribution.csv'\n",
    "results_df.to_csv(output_path, index=False)\n",
    "\n",
    "print(f'Saved in: {output_path}')\n"
   ]
  }
 ],
 "metadata": {
  "kernelspec": {
   "display_name": "Python 3",
   "language": "python",
   "name": "python3"
  },
  "language_info": {
   "codemirror_mode": {
    "name": "ipython",
    "version": 3
   },
   "file_extension": ".py",
   "mimetype": "text/x-python",
   "name": "python",
   "nbconvert_exporter": "python",
   "pygments_lexer": "ipython3",
   "version": "3.11.8"
  }
 },
 "nbformat": 4,
 "nbformat_minor": 2
}
