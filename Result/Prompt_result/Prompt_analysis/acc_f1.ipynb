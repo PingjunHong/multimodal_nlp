{
 "cells": [
  {
   "cell_type": "markdown",
   "metadata": {},
   "source": [
    "# Prompt analysis"
   ]
  },
  {
   "cell_type": "markdown",
   "metadata": {},
   "source": [
    "## Accuracy and F1 per emotion class on different dataset with different prompt"
   ]
  },
  {
   "cell_type": "code",
   "execution_count": 26,
   "metadata": {},
   "outputs": [
    {
     "name": "stdout",
     "output_type": "stream",
     "text": [
      "Overall Accuracy: 0.61\n",
      "Accuracy per Emotion: emotion\n",
      "amusement      0.846154\n",
      "awe            0.400000\n",
      "contentment    0.605263\n",
      "disgust        1.000000\n",
      "excitement     0.444444\n",
      "fear           0.800000\n",
      "sadness        0.588235\n",
      "dtype: float64\n",
      "F1 Score per Emotion: emotion\n",
      "contentment    0.754098\n",
      "sadness        0.714286\n",
      "awe            0.545455\n",
      "amusement      0.511628\n",
      "excitement     0.571429\n",
      "fear           0.727273\n",
      "disgust        0.500000\n",
      "dtype: float64\n"
     ]
    },
    {
     "name": "stderr",
     "output_type": "stream",
     "text": [
      "/var/folders/m4/bdfxxbj17j90t407ws9bzdrm0000gn/T/ipykernel_10744/3727815011.py:13: FutureWarning: A value is trying to be set on a copy of a DataFrame or Series through chained assignment using an inplace method.\n",
      "The behavior will change in pandas 3.0. This inplace method will never work because the intermediate object on which we are setting values always behaves as a copy.\n",
      "\n",
      "For example, when doing 'df[col].method(value, inplace=True)', try using 'df.method({col: value}, inplace=True)' or df[col] = df[col].method(value) instead, to perform the operation inplace on the original object.\n",
      "\n",
      "\n",
      "  data['predicted_0_shot'].fillna(\"unknown\", inplace=True)\n",
      "/var/folders/m4/bdfxxbj17j90t407ws9bzdrm0000gn/T/ipykernel_10744/3727815011.py:14: FutureWarning: A value is trying to be set on a copy of a DataFrame or Series through chained assignment using an inplace method.\n",
      "The behavior will change in pandas 3.0. This inplace method will never work because the intermediate object on which we are setting values always behaves as a copy.\n",
      "\n",
      "For example, when doing 'df[col].method(value, inplace=True)', try using 'df.method({col: value}, inplace=True)' or df[col] = df[col].method(value) instead, to perform the operation inplace on the original object.\n",
      "\n",
      "\n",
      "  data['emotion'].fillna(\"unknown\", inplace=True)\n"
     ]
    }
   ],
   "source": [
    "import pandas as pd\n",
    "from sklearn.metrics import f1_score, accuracy_score\n",
    "\n",
    "file_path = './Result/Prompt_result/sample_100_0shot.csv' \n",
    "data = pd.read_csv(file_path)\n",
    "\n",
    "data['predicted_0_shot'] = data['predicted_0_shot'].astype(str).str.lower()\n",
    "data['emotion'] = data['emotion'].astype(str).str.lower()\n",
    "\n",
    "data['predicted_0_shot'].fillna(\"unknown\", inplace=True)\n",
    "data['emotion'].fillna(\"unknown\", inplace=True)\n",
    "\n",
    "emotion_counts = data['emotion'].value_counts()\n",
    "emotion_proportions = data['emotion'].value_counts(normalize=True)\n",
    "\n",
    "overall_accuracy = accuracy_score(data['emotion'], data['predicted_0_shot'])\n",
    "print(f\"Overall Accuracy: {overall_accuracy}\")\n",
    "\n",
    "accuracy_per_emotion = (data['predicted_0_shot'] == data['emotion']).groupby(data['emotion']).mean()\n",
    "print(f\"Accuracy per Emotion: {accuracy_per_emotion}\")\n",
    "\n",
    "f1_scores = f1_score(data['emotion'], data['predicted_0_shot'], average=None, labels=emotion_counts.index)\n",
    "f1_scores_per_emotion = pd.Series(f1_scores, index=emotion_counts.index)\n",
    "print(f\"F1 Score per Emotion: {f1_scores_per_emotion}\")\n"
   ]
  },
  {
   "cell_type": "code",
   "execution_count": 25,
   "metadata": {},
   "outputs": [
    {
     "name": "stdout",
     "output_type": "stream",
     "text": [
      "Overall Accuracy: 0.61\n",
      "Accuracy per Emotion: emotion\n",
      "amusement      1.000000\n",
      "awe            0.666667\n",
      "contentment    0.512821\n",
      "disgust        0.600000\n",
      "excitement     0.222222\n",
      "fear           0.444444\n",
      "sadness        0.916667\n",
      "dtype: float64\n",
      "F1 Score per Emotion: emotion\n",
      "contentment    0.655738\n",
      "awe            0.800000\n",
      "sadness        0.846154\n",
      "amusement      0.431373\n",
      "excitement     0.363636\n",
      "fear           0.571429\n",
      "disgust        0.600000\n",
      "dtype: float64\n"
     ]
    },
    {
     "name": "stderr",
     "output_type": "stream",
     "text": [
      "/var/folders/m4/bdfxxbj17j90t407ws9bzdrm0000gn/T/ipykernel_10744/3549433311.py:13: FutureWarning: A value is trying to be set on a copy of a DataFrame or Series through chained assignment using an inplace method.\n",
      "The behavior will change in pandas 3.0. This inplace method will never work because the intermediate object on which we are setting values always behaves as a copy.\n",
      "\n",
      "For example, when doing 'df[col].method(value, inplace=True)', try using 'df.method({col: value}, inplace=True)' or df[col] = df[col].method(value) instead, to perform the operation inplace on the original object.\n",
      "\n",
      "\n",
      "  data['predicted_amusement_shot'].fillna(\"unknown\", inplace=True)\n",
      "/var/folders/m4/bdfxxbj17j90t407ws9bzdrm0000gn/T/ipykernel_10744/3549433311.py:14: FutureWarning: A value is trying to be set on a copy of a DataFrame or Series through chained assignment using an inplace method.\n",
      "The behavior will change in pandas 3.0. This inplace method will never work because the intermediate object on which we are setting values always behaves as a copy.\n",
      "\n",
      "For example, when doing 'df[col].method(value, inplace=True)', try using 'df.method({col: value}, inplace=True)' or df[col] = df[col].method(value) instead, to perform the operation inplace on the original object.\n",
      "\n",
      "\n",
      "  data['emotion'].fillna(\"unknown\", inplace=True)\n"
     ]
    }
   ],
   "source": [
    "file_path = './Result/Prompt_result/sample_df_amusement.csv' \n",
    "data = pd.read_csv(file_path)\n",
    "\n",
    "data['predicted_amusement_shot'] = data['predicted_amusement_shot'].astype(str).str.lower()\n",
    "data['emotion'] = data['emotion'].astype(str).str.lower()\n",
    "\n",
    "data['predicted_amusement_shot'].fillna(\"unknown\", inplace=True)\n",
    "data['emotion'].fillna(\"unknown\", inplace=True)\n",
    "\n",
    "emotion_counts = data['emotion'].value_counts()\n",
    "emotion_proportions = data['emotion'].value_counts(normalize=True)\n",
    "\n",
    "overall_accuracy = accuracy_score(data['emotion'], data['predicted_amusement_shot'])\n",
    "print(f\"Overall Accuracy: {overall_accuracy}\")\n",
    "\n",
    "accuracy_per_emotion = (data['predicted_amusement_shot'] == data['emotion']).groupby(data['emotion']).mean()\n",
    "print(f\"Accuracy per Emotion: {accuracy_per_emotion}\")\n",
    "\n",
    "f1_scores = f1_score(data['emotion'], data['predicted_amusement_shot'], average=None, labels=emotion_counts.index)\n",
    "f1_scores_per_emotion = pd.Series(f1_scores, index=emotion_counts.index)\n",
    "print(f\"F1 Score per Emotion: {f1_scores_per_emotion}\")\n"
   ]
  },
  {
   "cell_type": "code",
   "execution_count": null,
   "metadata": {},
   "outputs": [
    {
     "name": "stdout",
     "output_type": "stream",
     "text": [
      "Overall Accuracy: 0.76\n",
      "Accuracy per Emotion: emotion\n",
      "amusement      1.000000\n",
      "awe            0.521739\n",
      "contentment    0.828571\n",
      "disgust        1.000000\n",
      "excitement     0.600000\n",
      "fear           0.636364\n",
      "sadness        0.888889\n",
      "dtype: float64\n",
      "F1 Score per Emotion: emotion\n",
      "contentment    0.878788\n",
      "awe            0.685714\n",
      "amusement      0.648649\n",
      "fear           0.777778\n",
      "sadness        0.941176\n",
      "excitement     0.750000\n",
      "disgust        0.666667\n",
      "dtype: float64\n"
     ]
    },
    {
     "name": "stderr",
     "output_type": "stream",
     "text": [
      "/var/folders/m4/bdfxxbj17j90t407ws9bzdrm0000gn/T/ipykernel_10744/1180864812.py:13: FutureWarning: A value is trying to be set on a copy of a DataFrame or Series through chained assignment using an inplace method.\n",
      "The behavior will change in pandas 3.0. This inplace method will never work because the intermediate object on which we are setting values always behaves as a copy.\n",
      "\n",
      "For example, when doing 'df[col].method(value, inplace=True)', try using 'df.method({col: value}, inplace=True)' or df[col] = df[col].method(value) instead, to perform the operation inplace on the original object.\n",
      "\n",
      "\n",
      "  data['predicted_anger_shot'].fillna(\"unknown\", inplace=True)\n",
      "/var/folders/m4/bdfxxbj17j90t407ws9bzdrm0000gn/T/ipykernel_10744/1180864812.py:14: FutureWarning: A value is trying to be set on a copy of a DataFrame or Series through chained assignment using an inplace method.\n",
      "The behavior will change in pandas 3.0. This inplace method will never work because the intermediate object on which we are setting values always behaves as a copy.\n",
      "\n",
      "For example, when doing 'df[col].method(value, inplace=True)', try using 'df.method({col: value}, inplace=True)' or df[col] = df[col].method(value) instead, to perform the operation inplace on the original object.\n",
      "\n",
      "\n",
      "  data['emotion'].fillna(\"unknown\", inplace=True)\n"
     ]
    }
   ],
   "source": [
    "file_path = './Result/Prompt_result/sample_df_anger.csv'  \n",
    "data = pd.read_csv(file_path)\n",
    "\n",
    "data['predicted_anger_shot'] = data['predicted_anger_shot'].astype(str).str.lower()\n",
    "data['emotion'] = data['emotion'].astype(str).str.lower()\n",
    "\n",
    "data['predicted_anger_shot'].fillna(\"unknown\", inplace=True)\n",
    "data['emotion'].fillna(\"unknown\", inplace=True)\n",
    "\n",
    "emotion_counts = data['emotion'].value_counts()\n",
    "emotion_proportions = data['emotion'].value_counts(normalize=True)\n",
    "\n",
    "overall_accuracy = accuracy_score(data['emotion'], data['predicted_anger_shot'])\n",
    "print(f\"Overall Accuracy: {overall_accuracy}\")\n",
    "\n",
    "accuracy_per_emotion = (data['predicted_anger_shot'] == data['emotion']).groupby(data['emotion']).mean()\n",
    "print(f\"Accuracy per Emotion: {accuracy_per_emotion}\")\n",
    "\n",
    "f1_scores = f1_score(data['emotion'], data['predicted_anger_shot'], average=None, labels=emotion_counts.index)\n",
    "f1_scores_per_emotion = pd.Series(f1_scores, index=emotion_counts.index)\n",
    "print(f\"F1 Score per Emotion: {f1_scores_per_emotion}\")"
   ]
  },
  {
   "cell_type": "code",
   "execution_count": 23,
   "metadata": {},
   "outputs": [
    {
     "name": "stdout",
     "output_type": "stream",
     "text": [
      "Overall Accuracy: 0.79\n",
      "Accuracy per Emotion: emotion\n",
      "amusement      0.750000\n",
      "awe            0.833333\n",
      "contentment    0.744186\n",
      "disgust        1.000000\n",
      "excitement     0.333333\n",
      "fear           0.857143\n",
      "sadness        0.888889\n",
      "dtype: float64\n",
      "F1 Score per Emotion: emotion\n",
      "contentment    0.800000\n",
      "awe            0.697674\n",
      "fear           0.888889\n",
      "sadness        0.941176\n",
      "amusement      0.750000\n",
      "disgust        0.769231\n",
      "excitement     0.500000\n",
      "dtype: float64\n"
     ]
    },
    {
     "name": "stderr",
     "output_type": "stream",
     "text": [
      "/var/folders/m4/bdfxxbj17j90t407ws9bzdrm0000gn/T/ipykernel_10744/1771319882.py:13: FutureWarning: A value is trying to be set on a copy of a DataFrame or Series through chained assignment using an inplace method.\n",
      "The behavior will change in pandas 3.0. This inplace method will never work because the intermediate object on which we are setting values always behaves as a copy.\n",
      "\n",
      "For example, when doing 'df[col].method(value, inplace=True)', try using 'df.method({col: value}, inplace=True)' or df[col] = df[col].method(value) instead, to perform the operation inplace on the original object.\n",
      "\n",
      "\n",
      "  data['predicted_awe_shot'].fillna(\"unknown\", inplace=True)\n",
      "/var/folders/m4/bdfxxbj17j90t407ws9bzdrm0000gn/T/ipykernel_10744/1771319882.py:14: FutureWarning: A value is trying to be set on a copy of a DataFrame or Series through chained assignment using an inplace method.\n",
      "The behavior will change in pandas 3.0. This inplace method will never work because the intermediate object on which we are setting values always behaves as a copy.\n",
      "\n",
      "For example, when doing 'df[col].method(value, inplace=True)', try using 'df.method({col: value}, inplace=True)' or df[col] = df[col].method(value) instead, to perform the operation inplace on the original object.\n",
      "\n",
      "\n",
      "  data['emotion'].fillna(\"unknown\", inplace=True)\n"
     ]
    }
   ],
   "source": [
    "file_path = './Result/Prompt_result/sample_df_awe.csv' \n",
    "data = pd.read_csv(file_path)\n",
    "\n",
    "data['predicted_awe_shot'] = data['predicted_awe_shot'].astype(str).str.lower()\n",
    "data['emotion'] = data['emotion'].astype(str).str.lower()\n",
    "\n",
    "data['predicted_awe_shot'].fillna(\"unknown\", inplace=True)\n",
    "data['emotion'].fillna(\"unknown\", inplace=True)\n",
    "\n",
    "emotion_counts = data['emotion'].value_counts()\n",
    "emotion_proportions = data['emotion'].value_counts(normalize=True)\n",
    "\n",
    "overall_accuracy = accuracy_score(data['emotion'], data['predicted_awe_shot'])\n",
    "print(f\"Overall Accuracy: {overall_accuracy}\")\n",
    "\n",
    "accuracy_per_emotion = (data['predicted_awe_shot'] == data['emotion']).groupby(data['emotion']).mean()\n",
    "print(f\"Accuracy per Emotion: {accuracy_per_emotion}\")\n",
    "\n",
    "f1_scores = f1_score(data['emotion'], data['predicted_awe_shot'], average=None, labels=emotion_counts.index)\n",
    "f1_scores_per_emotion = pd.Series(f1_scores, index=emotion_counts.index)\n",
    "print(f\"F1 Score per Emotion: {f1_scores_per_emotion}\")"
   ]
  },
  {
   "cell_type": "code",
   "execution_count": 22,
   "metadata": {},
   "outputs": [
    {
     "name": "stdout",
     "output_type": "stream",
     "text": [
      "Overall Accuracy: 0.74\n",
      "Accuracy per Emotion: emotion\n",
      "amusement      0.846154\n",
      "anger          0.000000\n",
      "awe            0.250000\n",
      "contentment    0.969697\n",
      "disgust        0.875000\n",
      "excitement     0.600000\n",
      "fear           0.692308\n",
      "sadness        0.727273\n",
      "dtype: float64\n",
      "F1 Score per Emotion: emotion\n",
      "contentment    0.790123\n",
      "awe            0.400000\n",
      "fear           0.750000\n",
      "amusement      0.880000\n",
      "sadness        0.800000\n",
      "disgust        0.736842\n",
      "excitement     0.600000\n",
      "anger          0.000000\n",
      "dtype: float64\n"
     ]
    },
    {
     "name": "stderr",
     "output_type": "stream",
     "text": [
      "/var/folders/m4/bdfxxbj17j90t407ws9bzdrm0000gn/T/ipykernel_10744/1787236988.py:13: FutureWarning: A value is trying to be set on a copy of a DataFrame or Series through chained assignment using an inplace method.\n",
      "The behavior will change in pandas 3.0. This inplace method will never work because the intermediate object on which we are setting values always behaves as a copy.\n",
      "\n",
      "For example, when doing 'df[col].method(value, inplace=True)', try using 'df.method({col: value}, inplace=True)' or df[col] = df[col].method(value) instead, to perform the operation inplace on the original object.\n",
      "\n",
      "\n",
      "  data['predicted_contentment_shot'].fillna(\"unknown\", inplace=True)\n",
      "/var/folders/m4/bdfxxbj17j90t407ws9bzdrm0000gn/T/ipykernel_10744/1787236988.py:14: FutureWarning: A value is trying to be set on a copy of a DataFrame or Series through chained assignment using an inplace method.\n",
      "The behavior will change in pandas 3.0. This inplace method will never work because the intermediate object on which we are setting values always behaves as a copy.\n",
      "\n",
      "For example, when doing 'df[col].method(value, inplace=True)', try using 'df.method({col: value}, inplace=True)' or df[col] = df[col].method(value) instead, to perform the operation inplace on the original object.\n",
      "\n",
      "\n",
      "  data['emotion'].fillna(\"unknown\", inplace=True)\n"
     ]
    }
   ],
   "source": [
    "file_path = './Result/Prompt_result/sample_df_contentment.csv'  \n",
    "data = pd.read_csv(file_path)\n",
    "\n",
    "data['predicted_contentment_shot'] = data['predicted_contentment_shot'].astype(str).str.lower()\n",
    "data['emotion'] = data['emotion'].astype(str).str.lower()\n",
    "\n",
    "data['predicted_contentment_shot'].fillna(\"unknown\", inplace=True)\n",
    "data['emotion'].fillna(\"unknown\", inplace=True)\n",
    "\n",
    "emotion_counts = data['emotion'].value_counts()\n",
    "emotion_proportions = data['emotion'].value_counts(normalize=True)\n",
    "\n",
    "overall_accuracy = accuracy_score(data['emotion'], data['predicted_contentment_shot'])\n",
    "print(f\"Overall Accuracy: {overall_accuracy}\")\n",
    "\n",
    "accuracy_per_emotion = (data['predicted_contentment_shot'] == data['emotion']).groupby(data['emotion']).mean()\n",
    "print(f\"Accuracy per Emotion: {accuracy_per_emotion}\")\n",
    "\n",
    "f1_scores = f1_score(data['emotion'], data['predicted_contentment_shot'], average=None, labels=emotion_counts.index)\n",
    "f1_scores_per_emotion = pd.Series(f1_scores, index=emotion_counts.index)\n",
    "print(f\"F1 Score per Emotion: {f1_scores_per_emotion}\")"
   ]
  },
  {
   "cell_type": "code",
   "execution_count": 21,
   "metadata": {},
   "outputs": [
    {
     "name": "stdout",
     "output_type": "stream",
     "text": [
      "Overall Accuracy: 0.7\n",
      "Accuracy per Emotion: emotion\n",
      "amusement      0.642857\n",
      "anger          0.000000\n",
      "awe            0.650000\n",
      "contentment    0.771429\n",
      "disgust        1.000000\n",
      "excitement     0.833333\n",
      "fear           0.300000\n",
      "sadness        0.900000\n",
      "dtype: float64\n",
      "F1 Score per Emotion: emotion\n",
      "contentment    0.830769\n",
      "awe            0.764706\n",
      "amusement      0.666667\n",
      "fear           0.461538\n",
      "sadness        0.947368\n",
      "excitement     0.833333\n",
      "disgust        0.275862\n",
      "anger          0.000000\n",
      "dtype: float64\n"
     ]
    },
    {
     "name": "stderr",
     "output_type": "stream",
     "text": [
      "/var/folders/m4/bdfxxbj17j90t407ws9bzdrm0000gn/T/ipykernel_10744/1435035085.py:13: FutureWarning: A value is trying to be set on a copy of a DataFrame or Series through chained assignment using an inplace method.\n",
      "The behavior will change in pandas 3.0. This inplace method will never work because the intermediate object on which we are setting values always behaves as a copy.\n",
      "\n",
      "For example, when doing 'df[col].method(value, inplace=True)', try using 'df.method({col: value}, inplace=True)' or df[col] = df[col].method(value) instead, to perform the operation inplace on the original object.\n",
      "\n",
      "\n",
      "  data['predicted_disgust_shot'].fillna(\"unknown\", inplace=True)\n",
      "/var/folders/m4/bdfxxbj17j90t407ws9bzdrm0000gn/T/ipykernel_10744/1435035085.py:14: FutureWarning: A value is trying to be set on a copy of a DataFrame or Series through chained assignment using an inplace method.\n",
      "The behavior will change in pandas 3.0. This inplace method will never work because the intermediate object on which we are setting values always behaves as a copy.\n",
      "\n",
      "For example, when doing 'df[col].method(value, inplace=True)', try using 'df.method({col: value}, inplace=True)' or df[col] = df[col].method(value) instead, to perform the operation inplace on the original object.\n",
      "\n",
      "\n",
      "  data['emotion'].fillna(\"unknown\", inplace=True)\n"
     ]
    }
   ],
   "source": [
    "file_path = './Result/Prompt_result/sample_df_disgust.csv' \n",
    "data = pd.read_csv(file_path)\n",
    "\n",
    "data['predicted_disgust_shot'] = data['predicted_disgust_shot'].astype(str).str.lower()\n",
    "data['emotion'] = data['emotion'].astype(str).str.lower()\n",
    "\n",
    "data['predicted_disgust_shot'].fillna(\"unknown\", inplace=True)\n",
    "data['emotion'].fillna(\"unknown\", inplace=True)\n",
    "\n",
    "emotion_counts = data['emotion'].value_counts()\n",
    "emotion_proportions = data['emotion'].value_counts(normalize=True)\n",
    "\n",
    "overall_accuracy = accuracy_score(data['emotion'], data['predicted_disgust_shot'])\n",
    "print(f\"Overall Accuracy: {overall_accuracy}\")\n",
    "\n",
    "accuracy_per_emotion = (data['predicted_disgust_shot'] == data['emotion']).groupby(data['emotion']).mean()\n",
    "print(f\"Accuracy per Emotion: {accuracy_per_emotion}\")\n",
    "\n",
    "f1_scores = f1_score(data['emotion'], data['predicted_disgust_shot'], average=None, labels=emotion_counts.index)\n",
    "f1_scores_per_emotion = pd.Series(f1_scores, index=emotion_counts.index)\n",
    "print(f\"F1 Score per Emotion: {f1_scores_per_emotion}\")"
   ]
  },
  {
   "cell_type": "code",
   "execution_count": 20,
   "metadata": {},
   "outputs": [
    {
     "name": "stdout",
     "output_type": "stream",
     "text": [
      "Overall Accuracy: 0.78\n",
      "Accuracy per Emotion: emotion\n",
      "amusement      0.933333\n",
      "awe            0.555556\n",
      "contentment    0.864865\n",
      "disgust        0.800000\n",
      "excitement     0.500000\n",
      "fear           0.818182\n",
      "sadness        0.750000\n",
      "dtype: float64\n",
      "F1 Score per Emotion: emotion\n",
      "contentment    0.901408\n",
      "awe            0.666667\n",
      "amusement      0.848485\n",
      "fear           0.857143\n",
      "sadness        0.800000\n",
      "excitement     0.315789\n",
      "disgust        0.727273\n",
      "dtype: float64\n"
     ]
    },
    {
     "name": "stderr",
     "output_type": "stream",
     "text": [
      "/var/folders/m4/bdfxxbj17j90t407ws9bzdrm0000gn/T/ipykernel_10744/1248585217.py:13: FutureWarning: A value is trying to be set on a copy of a DataFrame or Series through chained assignment using an inplace method.\n",
      "The behavior will change in pandas 3.0. This inplace method will never work because the intermediate object on which we are setting values always behaves as a copy.\n",
      "\n",
      "For example, when doing 'df[col].method(value, inplace=True)', try using 'df.method({col: value}, inplace=True)' or df[col] = df[col].method(value) instead, to perform the operation inplace on the original object.\n",
      "\n",
      "\n",
      "  data['predicted_excitement_shot'].fillna(\"unknown\", inplace=True)\n",
      "/var/folders/m4/bdfxxbj17j90t407ws9bzdrm0000gn/T/ipykernel_10744/1248585217.py:14: FutureWarning: A value is trying to be set on a copy of a DataFrame or Series through chained assignment using an inplace method.\n",
      "The behavior will change in pandas 3.0. This inplace method will never work because the intermediate object on which we are setting values always behaves as a copy.\n",
      "\n",
      "For example, when doing 'df[col].method(value, inplace=True)', try using 'df.method({col: value}, inplace=True)' or df[col] = df[col].method(value) instead, to perform the operation inplace on the original object.\n",
      "\n",
      "\n",
      "  data['emotion'].fillna(\"unknown\", inplace=True)\n"
     ]
    }
   ],
   "source": [
    "file_path = './Result/Prompt_result/sample_df_excitement.csv' \n",
    "data = pd.read_csv(file_path)\n",
    "\n",
    "data['predicted_excitement_shot'] = data['predicted_excitement_shot'].astype(str).str.lower()\n",
    "data['emotion'] = data['emotion'].astype(str).str.lower()\n",
    "\n",
    "data['predicted_excitement_shot'].fillna(\"unknown\", inplace=True)\n",
    "data['emotion'].fillna(\"unknown\", inplace=True)\n",
    "\n",
    "emotion_counts = data['emotion'].value_counts()\n",
    "emotion_proportions = data['emotion'].value_counts(normalize=True)\n",
    "\n",
    "overall_accuracy = accuracy_score(data['emotion'], data['predicted_excitement_shot'])\n",
    "print(f\"Overall Accuracy: {overall_accuracy}\")\n",
    "\n",
    "accuracy_per_emotion = (data['predicted_excitement_shot'] == data['emotion']).groupby(data['emotion']).mean()\n",
    "print(f\"Accuracy per Emotion: {accuracy_per_emotion}\")\n",
    "\n",
    "f1_scores = f1_score(data['emotion'], data['predicted_excitement_shot'], average=None, labels=emotion_counts.index)\n",
    "f1_scores_per_emotion = pd.Series(f1_scores, index=emotion_counts.index)\n",
    "print(f\"F1 Score per Emotion: {f1_scores_per_emotion}\")\n"
   ]
  },
  {
   "cell_type": "code",
   "execution_count": 18,
   "metadata": {},
   "outputs": [
    {
     "name": "stdout",
     "output_type": "stream",
     "text": [
      "Overall Accuracy: 0.77\n",
      "Accuracy per Emotion: emotion\n",
      "amusement      0.750000\n",
      "anger          0.000000\n",
      "awe            0.666667\n",
      "contentment    0.800000\n",
      "disgust        0.750000\n",
      "excitement     0.666667\n",
      "fear           1.000000\n",
      "sadness        0.823529\n",
      "dtype: float64\n",
      "F1 Score per Emotion: emotion\n",
      "contentment    0.875000\n",
      "sadness        0.875000\n",
      "awe            0.800000\n",
      "amusement      0.692308\n",
      "fear           0.666667\n",
      "disgust        0.666667\n",
      "excitement     0.571429\n",
      "anger          0.000000\n",
      "dtype: float64\n"
     ]
    },
    {
     "name": "stderr",
     "output_type": "stream",
     "text": [
      "/var/folders/m4/bdfxxbj17j90t407ws9bzdrm0000gn/T/ipykernel_10744/2729061819.py:13: FutureWarning: A value is trying to be set on a copy of a DataFrame or Series through chained assignment using an inplace method.\n",
      "The behavior will change in pandas 3.0. This inplace method will never work because the intermediate object on which we are setting values always behaves as a copy.\n",
      "\n",
      "For example, when doing 'df[col].method(value, inplace=True)', try using 'df.method({col: value}, inplace=True)' or df[col] = df[col].method(value) instead, to perform the operation inplace on the original object.\n",
      "\n",
      "\n",
      "  data['predicted_fear_shot'].fillna(\"unknown\", inplace=True)\n",
      "/var/folders/m4/bdfxxbj17j90t407ws9bzdrm0000gn/T/ipykernel_10744/2729061819.py:14: FutureWarning: A value is trying to be set on a copy of a DataFrame or Series through chained assignment using an inplace method.\n",
      "The behavior will change in pandas 3.0. This inplace method will never work because the intermediate object on which we are setting values always behaves as a copy.\n",
      "\n",
      "For example, when doing 'df[col].method(value, inplace=True)', try using 'df.method({col: value}, inplace=True)' or df[col] = df[col].method(value) instead, to perform the operation inplace on the original object.\n",
      "\n",
      "\n",
      "  data['emotion'].fillna(\"unknown\", inplace=True)\n"
     ]
    }
   ],
   "source": [
    "file_path = './Result/Prompt_result/sample_df_fear.csv'  \n",
    "data = pd.read_csv(file_path)\n",
    "\n",
    "data['predicted_fear_shot'] = data['predicted_fear_shot'].astype(str).str.lower()\n",
    "data['emotion'] = data['emotion'].astype(str).str.lower()\n",
    "\n",
    "data['predicted_fear_shot'].fillna(\"unknown\", inplace=True)\n",
    "data['emotion'].fillna(\"unknown\", inplace=True)\n",
    "\n",
    "emotion_counts = data['emotion'].value_counts()\n",
    "emotion_proportions = data['emotion'].value_counts(normalize=True)\n",
    "\n",
    "overall_accuracy = accuracy_score(data['emotion'], data['predicted_fear_shot'])\n",
    "print(f\"Overall Accuracy: {overall_accuracy}\")\n",
    "\n",
    "accuracy_per_emotion = (data['predicted_fear_shot'] == data['emotion']).groupby(data['emotion']).mean()\n",
    "print(f\"Accuracy per Emotion: {accuracy_per_emotion}\")\n",
    "\n",
    "f1_scores = f1_score(data['emotion'], data['predicted_fear_shot'], average=None, labels=emotion_counts.index)\n",
    "f1_scores_per_emotion = pd.Series(f1_scores, index=emotion_counts.index)\n",
    "print(f\"F1 Score per Emotion: {f1_scores_per_emotion}\")\n"
   ]
  },
  {
   "cell_type": "code",
   "execution_count": 19,
   "metadata": {},
   "outputs": [
    {
     "name": "stdout",
     "output_type": "stream",
     "text": [
      "Overall Accuracy: 0.71\n",
      "Accuracy per Emotion: emotion\n",
      "amusement      0.842105\n",
      "anger          0.000000\n",
      "awe            0.615385\n",
      "contentment    0.687500\n",
      "excitement     0.400000\n",
      "fear           0.625000\n",
      "sadness        1.000000\n",
      "dtype: float64\n",
      "F1 Score per Emotion: emotion\n",
      "contentment    0.745763\n",
      "amusement      0.800000\n",
      "fear           0.740741\n",
      "sadness        0.742857\n",
      "awe            0.761905\n",
      "excitement     0.444444\n",
      "anger          0.000000\n",
      "dtype: float64\n"
     ]
    },
    {
     "name": "stderr",
     "output_type": "stream",
     "text": [
      "/var/folders/m4/bdfxxbj17j90t407ws9bzdrm0000gn/T/ipykernel_10744/351406770.py:13: FutureWarning: A value is trying to be set on a copy of a DataFrame or Series through chained assignment using an inplace method.\n",
      "The behavior will change in pandas 3.0. This inplace method will never work because the intermediate object on which we are setting values always behaves as a copy.\n",
      "\n",
      "For example, when doing 'df[col].method(value, inplace=True)', try using 'df.method({col: value}, inplace=True)' or df[col] = df[col].method(value) instead, to perform the operation inplace on the original object.\n",
      "\n",
      "\n",
      "  data['predicted_sadness_shot'].fillna(\"unknown\", inplace=True)\n",
      "/var/folders/m4/bdfxxbj17j90t407ws9bzdrm0000gn/T/ipykernel_10744/351406770.py:14: FutureWarning: A value is trying to be set on a copy of a DataFrame or Series through chained assignment using an inplace method.\n",
      "The behavior will change in pandas 3.0. This inplace method will never work because the intermediate object on which we are setting values always behaves as a copy.\n",
      "\n",
      "For example, when doing 'df[col].method(value, inplace=True)', try using 'df.method({col: value}, inplace=True)' or df[col] = df[col].method(value) instead, to perform the operation inplace on the original object.\n",
      "\n",
      "\n",
      "  data['emotion'].fillna(\"unknown\", inplace=True)\n"
     ]
    }
   ],
   "source": [
    "file_path = './Result/Prompt_result/sample_df_sadness.csv'\n",
    "data = pd.read_csv(file_path)\n",
    "\n",
    "data['predicted_sadness_shot'] = data['predicted_sadness_shot'].astype(str).str.lower()\n",
    "data['emotion'] = data['emotion'].astype(str).str.lower()\n",
    "\n",
    "data['predicted_sadness_shot'].fillna(\"unknown\", inplace=True)\n",
    "data['emotion'].fillna(\"unknown\", inplace=True)\n",
    "\n",
    "emotion_counts = data['emotion'].value_counts()\n",
    "emotion_proportions = data['emotion'].value_counts(normalize=True)\n",
    "\n",
    "overall_accuracy = accuracy_score(data['emotion'], data['predicted_sadness_shot'])\n",
    "print(f\"Overall Accuracy: {overall_accuracy}\")\n",
    "\n",
    "accuracy_per_emotion = (data['predicted_sadness_shot'] == data['emotion']).groupby(data['emotion']).mean()\n",
    "print(f\"Accuracy per Emotion: {accuracy_per_emotion}\")\n",
    "\n",
    "f1_scores = f1_score(data['emotion'], data['predicted_sadness_shot'], average=None, labels=emotion_counts.index)\n",
    "f1_scores_per_emotion = pd.Series(f1_scores, index=emotion_counts.index)\n",
    "print(f\"F1 Score per Emotion: {f1_scores_per_emotion}\")\n"
   ]
  },
  {
   "cell_type": "markdown",
   "metadata": {},
   "source": [
    "## Accuracy and F1 per emotion class on same dataset with different prompt"
   ]
  },
  {
   "cell_type": "markdown",
   "metadata": {},
   "source": [
    "### Emotion label distribution"
   ]
  },
  {
   "cell_type": "code",
   "execution_count": null,
   "metadata": {},
   "outputs": [],
   "source": [
    "csv_file_path = \"./Result/Prompt_result/8prompts_on_same_data.csv\"\n",
    "data = pd.read_csv(csv_file_path)\n",
    "\n",
    "emotion_counts = data['emotion'].value_counts()\n",
    "\n",
    "emotion_proportions = data['emotion'].value_counts(normalize=True)\n",
    "\n",
    "print(emotion_counts)\n",
    "print(emotion_proportions)"
   ]
  },
  {
   "cell_type": "markdown",
   "metadata": {},
   "source": [
    "## Accuracy per emotion"
   ]
  },
  {
   "cell_type": "code",
   "execution_count": null,
   "metadata": {},
   "outputs": [
    {
     "data": {
      "text/plain": [
       "emotion\n",
       "amusement      0.909091\n",
       "awe            0.533333\n",
       "contentment    0.923077\n",
       "disgust        0.800000\n",
       "excitement     0.444444\n",
       "fear           0.444444\n",
       "sadness        0.833333\n",
       "dtype: float64"
      ]
     },
     "metadata": {},
     "output_type": "display_data"
    }
   ],
   "source": [
    "predicted_contentment_shot = data['predicted_contentment_shot'].str.lower()\n",
    "\n",
    "actual_emotion = data['emotion'].str.lower()\n",
    "\n",
    "accuracy_per_emotion = (predicted_contentment_shot == actual_emotion).groupby(actual_emotion).mean()\n",
    "\n",
    "accuracy_per_emotion\n"
   ]
  },
  {
   "cell_type": "code",
   "execution_count": null,
   "metadata": {},
   "outputs": [
    {
     "data": {
      "text/plain": [
       "emotion\n",
       "amusement      1.000000\n",
       "awe            0.733333\n",
       "contentment    0.615385\n",
       "disgust        0.800000\n",
       "excitement     0.888889\n",
       "fear           0.666667\n",
       "sadness        0.916667\n",
       "dtype: float64"
      ]
     },
     "metadata": {},
     "output_type": "display_data"
    }
   ],
   "source": [
    "predicted_excitement_shot = data['predicted_excitement_shot'].str.lower()\n",
    "\n",
    "actual_emotion = data['emotion'].str.lower()\n",
    "\n",
    "accuracy_per_emotion = (predicted_excitement_shot == actual_emotion).groupby(actual_emotion).mean()\n",
    "\n",
    "accuracy_per_emotion\n"
   ]
  },
  {
   "cell_type": "code",
   "execution_count": null,
   "metadata": {},
   "outputs": [
    {
     "data": {
      "text/plain": [
       "emotion\n",
       "amusement      0.818182\n",
       "awe            0.733333\n",
       "contentment    0.641026\n",
       "disgust        0.400000\n",
       "excitement     0.666667\n",
       "fear           1.000000\n",
       "sadness        0.833333\n",
       "dtype: float64"
      ]
     },
     "metadata": {},
     "output_type": "display_data"
    }
   ],
   "source": [
    "predicted_fear_shot = data['predicted_fear_shot'].str.lower()\n",
    "\n",
    "actual_emotion = data['emotion'].str.lower()\n",
    "\n",
    "accuracy_per_emotion = (predicted_fear_shot == actual_emotion).groupby(actual_emotion).mean()\n",
    "\n",
    "accuracy_per_emotion\n"
   ]
  },
  {
   "cell_type": "code",
   "execution_count": null,
   "metadata": {},
   "outputs": [
    {
     "data": {
      "text/plain": [
       "emotion\n",
       "amusement      0.727273\n",
       "awe            0.600000\n",
       "contentment    0.692308\n",
       "disgust        0.600000\n",
       "excitement     0.666667\n",
       "fear           0.333333\n",
       "sadness        1.000000\n",
       "dtype: float64"
      ]
     },
     "metadata": {},
     "output_type": "display_data"
    }
   ],
   "source": [
    "predicted_sad_shot = data['predicted_sad_shot'].str.lower()\n",
    "\n",
    "actual_emotion = data['emotion'].str.lower()\n",
    "\n",
    "accuracy_per_emotion = (predicted_sad_shot == actual_emotion).groupby(actual_emotion).mean()\n",
    "\n",
    "accuracy_per_emotion\n"
   ]
  },
  {
   "cell_type": "code",
   "execution_count": null,
   "metadata": {},
   "outputs": [
    {
     "data": {
      "text/plain": [
       "emotion\n",
       "amusement      0.727273\n",
       "awe            0.800000\n",
       "contentment    0.615385\n",
       "disgust        1.000000\n",
       "excitement     0.555556\n",
       "fear           0.333333\n",
       "sadness        0.750000\n",
       "dtype: float64"
      ]
     },
     "metadata": {},
     "output_type": "display_data"
    }
   ],
   "source": [
    "predicted_disgust_shot = data['predicted_disgust_shot'].str.lower()\n",
    "\n",
    "actual_emotion = data['emotion'].str.lower()\n",
    "\n",
    "accuracy_per_emotion = (predicted_disgust_shot == actual_emotion).groupby(actual_emotion).mean()\n",
    "\n",
    "accuracy_per_emotion\n"
   ]
  },
  {
   "cell_type": "code",
   "execution_count": null,
   "metadata": {},
   "outputs": [
    {
     "data": {
      "text/plain": [
       "emotion\n",
       "amusement      1.000000\n",
       "awe            0.933333\n",
       "contentment    0.615385\n",
       "disgust        0.600000\n",
       "excitement     0.444444\n",
       "fear           0.777778\n",
       "sadness        0.833333\n",
       "dtype: float64"
      ]
     },
     "metadata": {},
     "output_type": "display_data"
    }
   ],
   "source": [
    "predicted_awe_shot = data['predicted_awe_shot'].str.lower()\n",
    "\n",
    "actual_emotion = data['emotion'].str.lower()\n",
    "\n",
    "accuracy_per_emotion = (predicted_awe_shot == actual_emotion).groupby(actual_emotion).mean()\n",
    "\n",
    "accuracy_per_emotion"
   ]
  },
  {
   "cell_type": "code",
   "execution_count": null,
   "metadata": {},
   "outputs": [
    {
     "data": {
      "text/plain": [
       "emotion\n",
       "amusement      1.000000\n",
       "awe            0.733333\n",
       "contentment    0.641026\n",
       "disgust        0.800000\n",
       "excitement     0.555556\n",
       "fear           0.333333\n",
       "sadness        0.833333\n",
       "dtype: float64"
      ]
     },
     "metadata": {},
     "output_type": "display_data"
    }
   ],
   "source": [
    "predicted_anger_shot = data['predicted_anger_shot'].str.lower()\n",
    "\n",
    "actual_emotion = data['emotion'].str.lower()\n",
    "\n",
    "accuracy_per_emotion = (predicted_anger_shot == actual_emotion).groupby(actual_emotion).mean()\n",
    "\n",
    "accuracy_per_emotion"
   ]
  },
  {
   "cell_type": "code",
   "execution_count": null,
   "metadata": {},
   "outputs": [
    {
     "data": {
      "text/plain": [
       "emotion\n",
       "amusement      1.000000\n",
       "awe            0.666667\n",
       "contentment    0.512821\n",
       "disgust        0.600000\n",
       "excitement     0.222222\n",
       "fear           0.444444\n",
       "sadness        0.916667\n",
       "dtype: float64"
      ]
     },
     "metadata": {},
     "output_type": "display_data"
    }
   ],
   "source": [
    "predicted_amusement_shot = data['predicted_amusement_shot'].str.lower()\n",
    "\n",
    "actual_emotion = data['emotion'].str.lower()\n",
    "\n",
    "accuracy_per_emotion = (predicted_amusement_shot == actual_emotion).groupby(actual_emotion).mean()\n",
    "\n",
    "accuracy_per_emotion"
   ]
  }
 ],
 "metadata": {
  "kernelspec": {
   "display_name": "MLLM",
   "language": "python",
   "name": "python3"
  },
  "language_info": {
   "codemirror_mode": {
    "name": "ipython",
    "version": 3
   },
   "file_extension": ".py",
   "mimetype": "text/x-python",
   "name": "python",
   "nbconvert_exporter": "python",
   "pygments_lexer": "ipython3",
   "version": "3.11.8"
  }
 },
 "nbformat": 4,
 "nbformat_minor": 2
}
